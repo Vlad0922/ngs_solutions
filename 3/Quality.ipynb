{
 "cells": [
  {
   "cell_type": "code",
   "execution_count": 1,
   "metadata": {
    "collapsed": false
   },
   "outputs": [],
   "source": [
    "import sys\n",
    "import re\n",
    "\n",
    "from bisect import *\n",
    "\n",
    "from Bio import SeqIO\n",
    "\n",
    "import numpy as np\n",
    "\n",
    "from matplotlib import pyplot as plt\n",
    "%matplotlib inline\n",
    "\n",
    "from IPython.display import Image"
   ]
  },
  {
   "cell_type": "code",
   "execution_count": 2,
   "metadata": {
    "collapsed": false
   },
   "outputs": [],
   "source": [
    "def get_reference_len(fname):\n",
    "    return np.sum([len(seq.seq) for seq in SeqIO.parse(fname, 'fasta')])\n",
    "\n",
    "def get_scaffolds_len(fname):\n",
    "    lens = [len(seq.seq) for seq in SeqIO.parse(fname, 'fasta')]\n",
    "    return np.sort(lens)[::-1]\n",
    "\n",
    "def calc_sums(lens):\n",
    "    sums = np.zeros((len(lens)))\n",
    "    sums[0] = lens[0]\n",
    "    \n",
    "    for i in range(1, len(lens)):\n",
    "        sums[i] = lens[i] + sums[i-1]\n",
    "    \n",
    "    return sums\n",
    "\n",
    "def find_ge(a, x):\n",
    "    i = bisect_left(a, x)\n",
    "    if i != len(a):\n",
    "        return i\n",
    "    raise ValueError\n",
    "\n",
    "def plot_ngx(lens, sums, ref_len):\n",
    "    res = list()\n",
    "    try:\n",
    "        for i in range(1, 101):\n",
    "            percent_len = 1.*i/100*ref_len\n",
    "            idx = find_ge(sums, percent_len)\n",
    "            scaff_len = lens[idx]\n",
    "            res.append(scaff_len)\n",
    "    except:\n",
    "        pass\n",
    "    \n",
    "    plt.figure(figsize=(10,7))\n",
    "    plt.step(range(1, len(res)+1), res)"
   ]
  },
  {
   "cell_type": "code",
   "execution_count": 3,
   "metadata": {
    "collapsed": false
   },
   "outputs": [],
   "source": [
    "ref_len = get_reference_len('data/reference.fasta')\n",
    "scaff_lens = get_scaffolds_len('data/A.fasta')\n",
    "scaff_sums = calc_sums(scaff_lens)"
   ]
  },
  {
   "cell_type": "code",
   "execution_count": 4,
   "metadata": {
    "collapsed": false
   },
   "outputs": [
    {
     "data": {
      "text/plain": [
       "[<matplotlib.lines.Line2D at 0x7f65617a5990>]"
      ]
     },
     "execution_count": 4,
     "metadata": {},
     "output_type": "execute_result"
    },
    {
     "data": {
      "image/png": "[encoded data removed]",
      "text/plain": [
       "<matplotlib.figure.Figure at 0x7f65640c3f10>"
      ]
     },
     "metadata": {},
     "output_type": "display_data"
    }
   ],
   "source": [
    "plt.figure(figsize=(10,7))\n",
    "plt.plot(range(1, len(scaff_sums)+1), scaff_sums)"
   ]
  },
  {
   "cell_type": "code",
   "execution_count": 5,
   "metadata": {
    "collapsed": false
   },
   "outputs": [
    {
     "data": {
      "image/png": "[encoded data removed]",
      "text/plain": [
       "<matplotlib.figure.Figure at 0x7f65640c3cd0>"
      ]
     },
     "metadata": {},
     "output_type": "display_data"
    }
   ],
   "source": [
    "plot_ngx(scaff_lens, scaff_sums, ref_len)"
   ]
  },
  {
   "cell_type": "markdown",
   "metadata": {
    "collapsed": false
   },
   "source": [
    "На первый взгляд, если судить по NGx, то лучше всего сборка D.\n",
    "\n",
    "![title](img/ngx.png)\n",
    "\n",
    "Но если посмотреть на GC-content и общую длину сборки и сравнить с референсом, то можно заметить что длина почти в 2 раза больше чем референсная и GC-content сильно отличается. \n",
    "\n",
    "![title](img/gc.png)\n",
    "![title](img/len.png)\n",
    "\n",
    "Так же, косвенно, можно судить по числу найденных генов (которое очень мало).\n",
    "\n",
    "![title](img/genes.png)\n",
    "\n",
    "Все это склоняет ко мнению, что сборка D вообще не от организма референса или других сборок.\n",
    "\n",
    "Выбросив D из анализа, наибольшее внимание привлекают сборки C и E. У них наилучшее значение NGx, совпадение по GC и количеству найденных генов. Они настолько похожи, что почти по всем параметрам совпадают и трудно выделить наилучшую, возможно что С чуть-чуть качественнее собрана.\n",
    "\n",
    "Если отбросить референс, то вопрос что делать со сборкой D становится сложнее. С одной стороны, для других сборок могли применять неподходящую тулу, которая их собрала по эвристикам, что неверно работают для целевого организма, а для D выбрали подходящий и собрали качественно.  Поэтому стоит внимательнее изучить сборку D и пару C-E"
   ]
  },
  {
   "cell_type": "code",
   "execution_count": 6,
   "metadata": {
    "collapsed": false
   },
   "outputs": [
    {
     "ename": "NameError",
     "evalue": "name 'MAX_LEN' is not defined",
     "output_type": "error",
     "traceback": [
      "\u001b[0;31m---------------------------------------------------------------------------\u001b[0m",
      "\u001b[0;31mNameError\u001b[0m                                 Traceback (most recent call last)",
      "\u001b[0;32m<ipython-input-6-d5740182fabb>\u001b[0m in \u001b[0;36m<module>\u001b[0;34m()\u001b[0m\n\u001b[0;32m----> 1\u001b[0;31m \u001b[0;32mclass\u001b[0m \u001b[0mTreeNode\u001b[0m\u001b[0;34m:\u001b[0m\u001b[0;34m\u001b[0m\u001b[0m\n\u001b[0m\u001b[1;32m      2\u001b[0m     \u001b[0mnode_count\u001b[0m \u001b[0;34m=\u001b[0m \u001b[0;36m0\u001b[0m\u001b[0;34m\u001b[0m\u001b[0m\n\u001b[1;32m      3\u001b[0m \u001b[0;34m\u001b[0m\u001b[0m\n\u001b[1;32m      4\u001b[0m     \u001b[0;32mdef\u001b[0m \u001b[0m__init__\u001b[0m\u001b[0;34m(\u001b[0m\u001b[0mself\u001b[0m\u001b[0;34m,\u001b[0m \u001b[0mstart\u001b[0m\u001b[0;34m=\u001b[0m\u001b[0;36m0\u001b[0m\u001b[0;34m,\u001b[0m \u001b[0mend\u001b[0m\u001b[0;34m=\u001b[0m\u001b[0mMAX_LEN\u001b[0m\u001b[0;34m)\u001b[0m\u001b[0;34m:\u001b[0m\u001b[0;34m\u001b[0m\u001b[0m\n\u001b[1;32m      5\u001b[0m         \u001b[0mself\u001b[0m\u001b[0;34m.\u001b[0m\u001b[0midentifier\u001b[0m \u001b[0;34m=\u001b[0m \u001b[0mTreeNode\u001b[0m\u001b[0;34m.\u001b[0m\u001b[0mnode_count\u001b[0m\u001b[0;34m\u001b[0m\u001b[0m\n",
      "\u001b[0;32m<ipython-input-6-d5740182fabb>\u001b[0m in \u001b[0;36mTreeNode\u001b[0;34m()\u001b[0m\n\u001b[1;32m      2\u001b[0m     \u001b[0mnode_count\u001b[0m \u001b[0;34m=\u001b[0m \u001b[0;36m0\u001b[0m\u001b[0;34m\u001b[0m\u001b[0m\n\u001b[1;32m      3\u001b[0m \u001b[0;34m\u001b[0m\u001b[0m\n\u001b[0;32m----> 4\u001b[0;31m     \u001b[0;32mdef\u001b[0m \u001b[0m__init__\u001b[0m\u001b[0;34m(\u001b[0m\u001b[0mself\u001b[0m\u001b[0;34m,\u001b[0m \u001b[0mstart\u001b[0m\u001b[0;34m=\u001b[0m\u001b[0;36m0\u001b[0m\u001b[0;34m,\u001b[0m \u001b[0mend\u001b[0m\u001b[0;34m=\u001b[0m\u001b[0mMAX_LEN\u001b[0m\u001b[0;34m)\u001b[0m\u001b[0;34m:\u001b[0m\u001b[0;34m\u001b[0m\u001b[0m\n\u001b[0m\u001b[1;32m      5\u001b[0m         \u001b[0mself\u001b[0m\u001b[0;34m.\u001b[0m\u001b[0midentifier\u001b[0m \u001b[0;34m=\u001b[0m \u001b[0mTreeNode\u001b[0m\u001b[0;34m.\u001b[0m\u001b[0mnode_count\u001b[0m\u001b[0;34m\u001b[0m\u001b[0m\n\u001b[1;32m      6\u001b[0m         \u001b[0mTreeNode\u001b[0m\u001b[0;34m.\u001b[0m\u001b[0mnode_count\u001b[0m \u001b[0;34m+=\u001b[0m \u001b[0;36m1\u001b[0m\u001b[0;34m\u001b[0m\u001b[0m\n",
      "\u001b[0;31mNameError\u001b[0m: name 'MAX_LEN' is not defined"
     ]
    }
   ],
   "source": [
    "MAX_LEN = sys.maxint\n",
    "\n",
    "class TreeNode:\n",
    "    node_count = 0\n",
    "\n",
    "    def __init__(self, start=0, end=MAX_LEN):\n",
    "        self.identifier = TreeNode.node_count\n",
    "        TreeNode.node_count += 1\n",
    "\n",
    "        self.suffix_link = None\n",
    "        self.edges = {}\n",
    "        self.parent = None\n",
    "\n",
    "        self.seq_id = 0\n",
    "        self.start = start\n",
    "        self.end = end\n",
    "\n",
    "    def add_child(self, key, start, end):\n",
    "        child = TreeNode(start=start, end=end)\n",
    "        child.parent = self\n",
    "        self.edges[key] = child\n",
    "        return child\n",
    "\n",
    "    def add_node_as_child(self, key, node):\n",
    "        node.parent = self\n",
    "        self.edges[key] = node\n",
    "\n",
    "    def edge_length(self, current_index):\n",
    "        return min(self.end, current_index + 1) - self.start\n",
    "\n",
    "\n",
    "class SuffixTree:\n",
    "    def __init__(self):\n",
    "        self.root = TreeNode()\n",
    "        self.whole_seq = ''\n",
    "        self.seq_count = 0\n",
    "        self.leaves = []\n",
    "\n",
    "    def append_sequence(self, whole_seq):\n",
    "        start_index = len(self.whole_seq)\n",
    "        idx = self.seq_count\n",
    "\n",
    "        whole_seq += '@' + str(idx)\n",
    "\n",
    "        self.whole_seq += whole_seq\n",
    "        self.seq_count += 1\n",
    "\n",
    "        active_node = self.root\n",
    "        active_edge = 0\n",
    "        active_length = 0\n",
    "\n",
    "        remainder = 0\n",
    "\n",
    "        new_leaves = []\n",
    "\n",
    "        for index in range(start_index, len(self.whole_seq)):\n",
    "            previous_node = None\n",
    "            remainder += 1\n",
    "            while remainder > 0:\n",
    "                if active_length == 0:\n",
    "                    active_edge = index\n",
    "\n",
    "                if self.whole_seq[active_edge] not in active_node.edges:\n",
    "                    leaf_node = active_node.add_child(self.whole_seq[active_edge], index, MAX_LEN)\n",
    "\n",
    "                    leaf_node.seq_id = 1 << idx\n",
    "                    new_leaves.append(leaf_node)\n",
    "\n",
    "                    #link suffix node\n",
    "                    if previous_node is not None:\n",
    "                        previous_node.suffix_link = active_node\n",
    "                    previous_node = active_node\n",
    "                else:\n",
    "                    next_node = active_node.edges[self.whole_seq[active_edge]]\n",
    "\n",
    "                    next_edge_length = next_node.edge_length(index)\n",
    "                    if active_length >= next_node.edge_length(index):\n",
    "                        active_edge += next_edge_length\n",
    "                        active_length -= next_edge_length\n",
    "                        active_node = next_node\n",
    "                        continue\n",
    "\n",
    "                    if self.whole_seq[next_node.start + active_length] == self.whole_seq[index]:\n",
    "                        active_length += 1\n",
    "                        if previous_node is not None:\n",
    "                            previous_node.suffix_link = active_node\n",
    "                        break\n",
    "\n",
    "                    splitted = active_node.add_child(\n",
    "                        self.whole_seq[active_edge],\n",
    "                        next_node.start,\n",
    "                        next_node.start + active_length\n",
    "                    )\n",
    "                    next_node.start += active_length\n",
    "                    splitted.add_node_as_child(self.whole_seq[next_node.start], next_node)\n",
    "                    leaf_node = splitted.add_child(self.whole_seq[index], index, MAX_LEN)\n",
    "                    leaf_node.seq_id = 1 << idx\n",
    "                    new_leaves.append(leaf_node)\n",
    "\n",
    "                    if previous_node is not None:\n",
    "                        previous_node.suffix_link = splitted\n",
    "                    previous_node = splitted\n",
    "\n",
    "                remainder -= 1\n",
    "\n",
    "                if active_node == self.root and active_length > 0:\n",
    "                    active_length -= 1\n",
    "                    active_edge = index - remainder + 1\n",
    "                else:\n",
    "                    active_node = active_node.suffix_link if active_node.suffix_link is not None else self.root\n",
    "\n",
    "        for leaf in new_leaves:\n",
    "            leaf.end = len(self.whole_seq)\n",
    "        self.leaves.extend(new_leaves)\n",
    "\n",
    "    def find_mums(self):\n",
    "        id_mask = (1 << self.seq_count) - 1\n",
    "\n",
    "        ancestors = []\n",
    "\n",
    "        for leaf in self.leaves:\n",
    "            node = leaf\n",
    "            while node.parent is not None:\n",
    "                if node.seq_id != id_mask:\n",
    "                    node.parent.seq_id |= node.seq_id\n",
    "                    node = node.parent\n",
    "                else:\n",
    "                    ancestors.append(node)\n",
    "                    break\n",
    "\n",
    "        mums = {''}\n",
    "        max_len = 0\n",
    "\n",
    "        for anc in ancestors:\n",
    "            mum = ''\n",
    "            node = anc\n",
    "            while node.parent is not None:\n",
    "                label = self.whole_seq[node.start:node.end]\n",
    "                mum = label + mum\n",
    "                node = node.parent\n",
    "            mum = re.sub(r'(.*?)\\$?\\d*@', r'\\1', mum) #remove uniq ending\n",
    "            if len(mum) > max_len:\n",
    "                max_len = len(mum)\n",
    "                mums = {mum}\n",
    "            elif len(mum) == max_len and mum not in mums:\n",
    "                mums.add(mum)\n",
    "\n",
    "        return mums"
   ]
  },
  {
   "cell_type": "code",
   "execution_count": 7,
   "metadata": {
    "collapsed": false
   },
   "outputs": [],
   "source": [
    "def read_ref_and_assembly():\n",
    "    assembly = str([seq for seq in SeqIO.parse('data/mum_detection/assembly_easy.fasta', 'fasta')][0].seq)\n",
    "    ref = str([seq for seq in SeqIO.parse('data/mum_detection/reference_easy.fasta', 'fasta')][0].seq)\n",
    "    \n",
    "    return (ref, assembly)"
   ]
  },
  {
   "cell_type": "code",
   "execution_count": 8,
   "metadata": {
    "collapsed": false
   },
   "outputs": [],
   "source": [
    "ref, assembly = read_ref_and_assembly()"
   ]
  },
  {
   "cell_type": "code",
   "execution_count": 9,
   "metadata": {
    "collapsed": false
   },
   "outputs": [
    {
     "ename": "NameError",
     "evalue": "name 'SuffixTree' is not defined",
     "output_type": "error",
     "traceback": [
      "\u001b[0;31m---------------------------------------------------------------------------\u001b[0m",
      "\u001b[0;31mNameError\u001b[0m                                 Traceback (most recent call last)",
      "\u001b[0;32m<ipython-input-9-1a8ae08735ea>\u001b[0m in \u001b[0;36m<module>\u001b[0;34m()\u001b[0m\n\u001b[0;32m----> 1\u001b[0;31m \u001b[0msuffix_tree\u001b[0m \u001b[0;34m=\u001b[0m \u001b[0mSuffixTree\u001b[0m\u001b[0;34m(\u001b[0m\u001b[0;34m)\u001b[0m\u001b[0;34m\u001b[0m\u001b[0m\n\u001b[0m\u001b[1;32m      2\u001b[0m \u001b[0msuffix_tree\u001b[0m\u001b[0;34m.\u001b[0m\u001b[0mappend_sequence\u001b[0m\u001b[0;34m(\u001b[0m\u001b[0mref\u001b[0m\u001b[0;34m)\u001b[0m\u001b[0;34m\u001b[0m\u001b[0m\n\u001b[1;32m      3\u001b[0m \u001b[0msuffix_tree\u001b[0m\u001b[0;34m.\u001b[0m\u001b[0mappend_sequence\u001b[0m\u001b[0;34m(\u001b[0m\u001b[0massembly\u001b[0m\u001b[0;34m)\u001b[0m\u001b[0;34m\u001b[0m\u001b[0m\n\u001b[1;32m      4\u001b[0m \u001b[0;34m\u001b[0m\u001b[0m\n\u001b[1;32m      5\u001b[0m \u001b[0;32mprint\u001b[0m \u001b[0msuffix_tree\u001b[0m\u001b[0;34m.\u001b[0m\u001b[0mfind_mums\u001b[0m\u001b[0;34m(\u001b[0m\u001b[0;34m)\u001b[0m\u001b[0;34m\u001b[0m\u001b[0m\n",
      "\u001b[0;31mNameError\u001b[0m: name 'SuffixTree' is not defined"
     ]
    }
   ],
   "source": [
    "suffix_tree = SuffixTree()\n",
    "suffix_tree.append_sequence(ref)\n",
    "suffix_tree.append_sequence(assembly)\n",
    "\n",
    "print suffix_tree.find_mums()"
   ]
  },
  {
   "cell_type": "code",
   "execution_count": null,
   "metadata": {
    "collapsed": true
   },
   "outputs": [],
   "source": []
  }
 ],
 "metadata": {
  "kernelspec": {
   "display_name": "Python 2",
   "language": "python",
   "name": "python2"
  },
  "language_info": {
   "codemirror_mode": {
    "name": "ipython",
    "version": 2
   },
   "file_extension": ".py",
   "mimetype": "text/x-python",
   "name": "python",
   "nbconvert_exporter": "python",
   "pygments_lexer": "ipython2",
   "version": "2.7.13"
  }
 },
 "nbformat": 4,
 "nbformat_minor": 2
}
